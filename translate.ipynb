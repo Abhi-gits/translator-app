{
 "cells": [
  {
   "cell_type": "code",
   "execution_count": 68,
   "metadata": {},
   "outputs": [],
   "source": [
    "from tkinter import *\n",
    "from tkinter import ttk, messagebox\n",
    "from googletrans import Translator, LANGUAGES"
   ]
  },
  {
   "cell_type": "code",
   "execution_count": 87,
   "metadata": {},
   "outputs": [],
   "source": [
    "from tkinter import *\n",
    "from tkinter import ttk, messagebox\n",
    "from googletrans import Translator, LANGUAGES\n",
    "\n",
    "root = Tk()\n",
    "root.geometry('1100x320')\n",
    "root.resizable(0,0)\n",
    "#root.iconbitmap('image.jpg')\n",
    "root['bg'] = 'skyblue'\n",
    "\n",
    "root.title('Language Translator')\n",
    "Label(root, text=\"Language Translator\", font=\"Ariel 20 bold\").pack()\n",
    "\n"
   ]
  },
  {
   "cell_type": "code",
   "execution_count": 88,
   "metadata": {},
   "outputs": [],
   "source": [
    "Label(root,text=\"Enter text\", font=\"Ariel 13 bold\", bg=\"white smoke\").place(x=165, y=90)\n",
    "\n",
    "\n",
    "#root.mainloop()"
   ]
  },
  {
   "cell_type": "code",
   "execution_count": 89,
   "metadata": {},
   "outputs": [
    {
     "data": {
      "text/plain": [
       "''"
      ]
     },
     "execution_count": 89,
     "metadata": {},
     "output_type": "execute_result"
    }
   ],
   "source": [
    "Input_text = Entry(root, width = 60)\n",
    "Input_text.place(x=30, y=130)\n",
    "Input_text.get()\n"
   ]
  },
  {
   "cell_type": "code",
   "execution_count": 90,
   "metadata": {},
   "outputs": [
    {
     "name": "stdout",
     "output_type": "stream",
     "text": [
      "['afrikaans', 'albanian', 'amharic', 'arabic', 'armenian', 'azerbaijani', 'basque', 'belarusian', 'bengali', 'bosnian', 'bulgarian', 'catalan', 'cebuano', 'chichewa', 'chinese (simplified)', 'chinese (traditional)', 'corsican', 'croatian', 'czech', 'danish', 'dutch', 'english', 'esperanto', 'estonian', 'filipino', 'finnish', 'french', 'frisian', 'galician', 'georgian', 'german', 'greek', 'gujarati', 'haitian creole', 'hausa', 'hawaiian', 'hebrew', 'hebrew', 'hindi', 'hmong', 'hungarian', 'icelandic', 'igbo', 'indonesian', 'irish', 'italian', 'japanese', 'javanese', 'kannada', 'kazakh', 'khmer', 'korean', 'kurdish (kurmanji)', 'kyrgyz', 'lao', 'latin', 'latvian', 'lithuanian', 'luxembourgish', 'macedonian', 'malagasy', 'malay', 'malayalam', 'maltese', 'maori', 'marathi', 'mongolian', 'myanmar (burmese)', 'nepali', 'norwegian', 'odia', 'pashto', 'persian', 'polish', 'portuguese', 'punjabi', 'romanian', 'russian', 'samoan', 'scots gaelic', 'serbian', 'sesotho', 'shona', 'sindhi', 'sinhala', 'slovak', 'slovenian', 'somali', 'spanish', 'sundanese', 'swahili', 'swedish', 'tajik', 'tamil', 'telugu', 'thai', 'turkish', 'ukrainian', 'urdu', 'uyghur', 'uzbek', 'vietnamese', 'welsh', 'xhosa', 'yiddish', 'yoruba', 'zulu']\n",
      "Mein Name ist\n",
      "મારુ નામ શું છે\n",
      "ما اسمك ؟\n",
      "Votre nom :\n",
      "Ayez toujours votre stylo avec vous.\n"
     ]
    },
    {
     "name": "stderr",
     "output_type": "stream",
     "text": [
      "Exception in Tkinter callback\n",
      "Traceback (most recent call last):\n",
      "  File \"c:\\Users\\Abhishek\\AppData\\Local\\Programs\\Python\\Python310\\lib\\site-packages\\translate\\translate.py\", line 45, in <genexpr>\n",
      "    return ' '.join(self.provider.get_translation(text_wraped) for text_wraped in text_list)\n",
      "  File \"c:\\Users\\Abhishek\\AppData\\Local\\Programs\\Python\\Python310\\lib\\site-packages\\translate\\providers\\mymemory_translated.py\", line 49, in get_translation\n",
      "    next_best_match = next(match for match in matches)\n",
      "StopIteration\n",
      "\n",
      "The above exception was the direct cause of the following exception:\n",
      "\n",
      "Traceback (most recent call last):\n",
      "  File \"c:\\Users\\Abhishek\\AppData\\Local\\Programs\\Python\\Python310\\lib\\tkinter\\__init__.py\", line 1921, in __call__\n",
      "    return self.func(*args)\n",
      "  File \"C:\\Users\\Abhishek\\AppData\\Local\\Temp\\ipykernel_14752\\2284088021.py\", line 16, in Translate\n",
      "    translated = translator.translate(text = Input_text.get())\n",
      "  File \"c:\\Users\\Abhishek\\AppData\\Local\\Programs\\Python\\Python310\\lib\\site-packages\\translate\\translate.py\", line 45, in translate\n",
      "    return ' '.join(self.provider.get_translation(text_wraped) for text_wraped in text_list)\n",
      "RuntimeError: generator raised StopIteration\n",
      "Exception in Tkinter callback\n",
      "Traceback (most recent call last):\n",
      "  File \"c:\\Users\\Abhishek\\AppData\\Local\\Programs\\Python\\Python310\\lib\\site-packages\\translate\\translate.py\", line 45, in <genexpr>\n",
      "    return ' '.join(self.provider.get_translation(text_wraped) for text_wraped in text_list)\n",
      "  File \"c:\\Users\\Abhishek\\AppData\\Local\\Programs\\Python\\Python310\\lib\\site-packages\\translate\\providers\\mymemory_translated.py\", line 49, in get_translation\n",
      "    next_best_match = next(match for match in matches)\n",
      "StopIteration\n",
      "\n",
      "The above exception was the direct cause of the following exception:\n",
      "\n",
      "Traceback (most recent call last):\n",
      "  File \"c:\\Users\\Abhishek\\AppData\\Local\\Programs\\Python\\Python310\\lib\\tkinter\\__init__.py\", line 1921, in __call__\n",
      "    return self.func(*args)\n",
      "  File \"C:\\Users\\Abhishek\\AppData\\Local\\Temp\\ipykernel_14752\\2284088021.py\", line 16, in Translate\n",
      "    translated = translator.translate(text = Input_text.get())\n",
      "  File \"c:\\Users\\Abhishek\\AppData\\Local\\Programs\\Python\\Python310\\lib\\site-packages\\translate\\translate.py\", line 45, in translate\n",
      "    return ' '.join(self.provider.get_translation(text_wraped) for text_wraped in text_list)\n",
      "RuntimeError: generator raised StopIteration\n",
      "Exception in Tkinter callback\n",
      "Traceback (most recent call last):\n",
      "  File \"c:\\Users\\Abhishek\\AppData\\Local\\Programs\\Python\\Python310\\lib\\site-packages\\translate\\translate.py\", line 45, in <genexpr>\n",
      "    return ' '.join(self.provider.get_translation(text_wraped) for text_wraped in text_list)\n",
      "  File \"c:\\Users\\Abhishek\\AppData\\Local\\Programs\\Python\\Python310\\lib\\site-packages\\translate\\providers\\mymemory_translated.py\", line 49, in get_translation\n",
      "    next_best_match = next(match for match in matches)\n",
      "StopIteration\n",
      "\n",
      "The above exception was the direct cause of the following exception:\n",
      "\n",
      "Traceback (most recent call last):\n",
      "  File \"c:\\Users\\Abhishek\\AppData\\Local\\Programs\\Python\\Python310\\lib\\tkinter\\__init__.py\", line 1921, in __call__\n",
      "    return self.func(*args)\n",
      "  File \"C:\\Users\\Abhishek\\AppData\\Local\\Temp\\ipykernel_14752\\2284088021.py\", line 16, in Translate\n",
      "    translated = translator.translate(text = Input_text.get())\n",
      "  File \"c:\\Users\\Abhishek\\AppData\\Local\\Programs\\Python\\Python310\\lib\\site-packages\\translate\\translate.py\", line 45, in translate\n",
      "    return ' '.join(self.provider.get_translation(text_wraped) for text_wraped in text_list)\n",
      "RuntimeError: generator raised StopIteration\n"
     ]
    },
    {
     "name": "stdout",
     "output_type": "stream",
     "text": [
      "हमेशा दोनों कार्ड अपने पास रखें।\n",
      "Ingatlah untuk membawa Surat Izin Mengemudi Anda. \n",
      "আপনার ডায়েরি আপনার সাথে রাখুন!\n",
      "পানীয় জল\n",
      "मैं पानी पीती हूं\n",
      "IHATSZ VIZET!\n",
      "Buvez de l'eau\n",
      "manger\n",
      "manger\n",
      "boire\n",
      "je bois\n"
     ]
    }
   ],
   "source": [
    "from translate import Translator\n",
    "\n",
    "Label(root, text=\"Output\", font='arial 13 bold', bg='white smoke').place(x=780, y=90)\n",
    "Output_text = Text(root, font='arial 10', height=5, wrap=WORD, padx=5, pady=5, width=50)\n",
    "Output_text.place(x=600,y=130)\n",
    "\n",
    "language = list(LANGUAGES.values())\n",
    "#print(language)\n",
    "\n",
    "dest_lang = ttk.Combobox(root, values=language, width=22)\n",
    "dest_lang.place(x=130, y=180)\n",
    "dest_lang.set('choose language')\n",
    "\n",
    "def Translate():\n",
    "    translator = Translator(to_lang = dest_lang.get(), from_lang='en')\n",
    "    translated = translator.translate(text = Input_text.get())\n",
    "    #print(translated)\n",
    "    Output_text.delete(1.0, END)\n",
    "    Output_text.insert(END, translated)\n",
    "    \n",
    "trans_btn = Button(root, text='Translate', font='arial 12 bold', pady=5, command= Translate, bg='orange', activebackground='green')\n",
    "trans_btn.place(x=445, y=180)\n",
    "    \n",
    "root.mainloop()    "
   ]
  }
 ],
 "metadata": {
  "kernelspec": {
   "display_name": "Python 3",
   "language": "python",
   "name": "python3"
  },
  "language_info": {
   "codemirror_mode": {
    "name": "ipython",
    "version": 3
   },
   "file_extension": ".py",
   "mimetype": "text/x-python",
   "name": "python",
   "nbconvert_exporter": "python",
   "pygments_lexer": "ipython3",
   "version": "3.10.4"
  },
  "orig_nbformat": 4
 },
 "nbformat": 4,
 "nbformat_minor": 2
}
